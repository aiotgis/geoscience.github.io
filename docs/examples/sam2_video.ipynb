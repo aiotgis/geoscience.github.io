{
  "cells": [
    {
      "cell_type": "markdown",
      "metadata": {
        "id": "ZOaAWgiS936u"
      },
      "source": [
        "## Install dependencies\n"
      ]
    },
    {
      "cell_type": "code",
      "execution_count": null,
      "metadata": {
        "id": "DJe8q7Nk936w"
      },
      "outputs": [],
      "source": [
        " %pip install -U segment-geospatial"
      ]
    },
    {
      "cell_type": "markdown",
      "metadata": {
        "id": "d1olel8_936z"
      },
      "source": [
        "## Import libraries"
      ]
    },
    {
      "cell_type": "code",
      "execution_count": null,
      "metadata": {
        "id": "a_XqsyOj9362"
      },
      "outputs": [],
      "source": [
        "import leafmap\n",
        "from samgeo import SamGeo2"
      ]
    },
    {
      "cell_type": "markdown",
      "metadata": {
        "id": "is5tFzkR9363"
      },
      "source": [
        "## Download data"
      ]
    },
    {
      "cell_type": "code",
      "execution_count": null,
      "metadata": {
        "id": "SYn5guIN9364"
      },
      "outputs": [],
      "source": [
        "url = \"/content/drive/MyDrive/8bit_interger_img\""
      ]
    },
    {
      "cell_type": "code",
      "execution_count": null,
      "metadata": {
        "id": "-td-JMye9365"
      },
      "outputs": [],
      "source": [
        "leafmap.download_file(url)"
      ]
    },
    {
      "cell_type": "markdown",
      "metadata": {
        "id": "SIpk2cAZ9366"
      },
      "source": [
        "## Initialize the model"
      ]
    },
    {
      "cell_type": "code",
      "execution_count": null,
      "metadata": {
        "id": "Cv6RkFqS9367"
      },
      "outputs": [],
      "source": [
        "predictor = SamGeo2(\n",
        "    model_id=\"sam2-hiera-large\",\n",
        "    video=True,\n",
        ")"
      ]
    },
    {
      "cell_type": "markdown",
      "metadata": {
        "id": "9SQslW839367"
      },
      "source": [
        "## Specify the input data\n",
        "\n",
        "Point to the directory containing the images or the video file."
      ]
    },
    {
      "cell_type": "code",
      "execution_count": null,
      "metadata": {
        "id": "rRt1ZQ-k9368"
      },
      "outputs": [],
      "source": [
        "video_path = \"landsat_ts\"\n",
        "predictor.set_video(video_path)"
      ]
    },
    {
      "cell_type": "markdown",
      "metadata": {
        "id": "mEKgwwtr9369"
      },
      "source": [
        "## Specify the input prompts\n",
        "\n",
        "The prompts can be points and boxes. The points are represented as a list of tuples, where each tuple contains the x and y coordinates of the point. The boxes are represented as a list of tuples, where each tuple contains the x, y, width, and height of the box."
      ]
    },
    {
      "cell_type": "code",
      "execution_count": null,
      "metadata": {
        "id": "LGSuFEbn936-"
      },
      "outputs": [],
      "source": [
        "predictor.show_images()"
      ]
    },
    {
      "cell_type": "code",
      "execution_count": null,
      "metadata": {
        "id": "nLPmJz2G936-"
      },
      "outputs": [],
      "source": [
        "prompts = {\n",
        "    1: {\n",
        "        \"points\": [[1582, 933], [1287, 905], [1473, 998]],\n",
        "        \"labels\": [1, 1, 1],\n",
        "        \"frame_idx\": 0,\n",
        "    },\n",
        "}"
      ]
    },
    {
      "cell_type": "code",
      "execution_count": null,
      "metadata": {
        "id": "gh7AhimS936_"
      },
      "outputs": [],
      "source": [
        "predictor.show_prompts(prompts, frame_idx=0)"
      ]
    },
    {
      "cell_type": "markdown",
      "metadata": {
        "id": "c8tFkkNa936_"
      },
      "source": [
        "![image](https://github.com/user-attachments/assets/2290c685-5d08-4605-8859-ecc3d9986e8f)"
      ]
    },
    {
      "cell_type": "markdown",
      "metadata": {
        "id": "PFC_mDa8937A"
      },
      "source": [
        "Althernatively, prompts can be provided in lon/lat coordinates. The model will automatically convert the lon/lat coordinates to pixel coordinates when the `point_crs` parameter is set to the coordinate reference system of the lon/lat coordinates."
      ]
    },
    {
      "cell_type": "code",
      "execution_count": null,
      "metadata": {
        "id": "QgkOzCC6937A"
      },
      "outputs": [],
      "source": [
        "prompts = {\n",
        "    1: {\n",
        "        \"points\": [[-74.3713, -8.5218], [-74.2973, -8.5306], [-74.3230, -8.5495]],\n",
        "        \"labels\": [1, 1, 1],\n",
        "        \"frame_idx\": 0,\n",
        "    },\n",
        "}\n",
        "predictor.show_prompts(prompts, frame_idx=0, point_crs=\"EPSG:4326\")"
      ]
    },
    {
      "cell_type": "markdown",
      "metadata": {
        "id": "Ccq3CWan937A"
      },
      "source": [
        "## Segment the objects"
      ]
    },
    {
      "cell_type": "code",
      "execution_count": null,
      "metadata": {
        "id": "drqIrUaS937B"
      },
      "outputs": [],
      "source": [
        "predictor.predict_video()"
      ]
    },
    {
      "cell_type": "markdown",
      "metadata": {
        "id": "trOea5c9937B"
      },
      "source": [
        "## Save results\n",
        "\n",
        "To save the results as gray-scale GeoTIFFs with the same georeference as the input images:"
      ]
    },
    {
      "cell_type": "code",
      "execution_count": null,
      "metadata": {
        "id": "P9xaD4X4937B"
      },
      "outputs": [],
      "source": [
        "predictor.save_video_segments(\"segments\")"
      ]
    },
    {
      "cell_type": "markdown",
      "metadata": {
        "id": "BbxmDEz5937C"
      },
      "source": [
        "To save the results as blended images and MP4 video:"
      ]
    },
    {
      "cell_type": "code",
      "execution_count": null,
      "metadata": {
        "id": "qm3DcnNI937C"
      },
      "outputs": [],
      "source": [
        "predictor.save_video_segments_blended(\n",
        "    \"blended\", fps=5, output_video=\"segments_blended.mp4\"\n",
        ")"
      ]
    },
    {
      "cell_type": "markdown",
      "metadata": {
        "id": "pZxnCG5O937C"
      },
      "source": [
        "![image](https://github.com/user-attachments/assets/111cada6-ada1-4785-8d37-385872bd7a4f)"
      ]
    },
    {
      "cell_type": "markdown",
      "metadata": {
        "id": "NOyJl_Q2937D"
      },
      "source": [
        "## Segment the objects from a video"
      ]
    },
    {
      "cell_type": "code",
      "execution_count": null,
      "metadata": {
        "id": "gd3xgqsT937D"
      },
      "outputs": [],
      "source": [
        "predictor = SamGeo2(\n",
        "    model_id=\"sam2-hiera-large\",\n",
        "    video=True,\n",
        ")"
      ]
    },
    {
      "cell_type": "code",
      "execution_count": null,
      "metadata": {
        "id": "MgNmnsWL937D"
      },
      "outputs": [],
      "source": [
        "url = \"https://github.com/opengeos/datasets/releases/download/videos/cars.mp4\""
      ]
    },
    {
      "cell_type": "code",
      "execution_count": null,
      "metadata": {
        "id": "a8Gc1D8x937E"
      },
      "outputs": [],
      "source": [
        "video_path = url\n",
        "predictor.set_video(video_path)"
      ]
    },
    {
      "cell_type": "code",
      "execution_count": null,
      "metadata": {
        "id": "B0WMvT6E937E"
      },
      "outputs": [],
      "source": [
        "predictor.show_images()"
      ]
    },
    {
      "cell_type": "code",
      "execution_count": null,
      "metadata": {
        "id": "8VGUarXl937E"
      },
      "outputs": [],
      "source": [
        "prompts = {\n",
        "    1: {\n",
        "        \"points\": [[335, 203]],\n",
        "        \"labels\": [1],\n",
        "        \"frame_idx\": 0,\n",
        "    },\n",
        "    2: {\n",
        "        \"points\": [[420, 201]],\n",
        "        \"labels\": [1],\n",
        "        \"frame_idx\": 0,\n",
        "    },\n",
        "}"
      ]
    },
    {
      "cell_type": "code",
      "execution_count": null,
      "metadata": {
        "id": "chKqX0Jb937F"
      },
      "outputs": [],
      "source": [
        "predictor.show_prompts(prompts, frame_idx=0)"
      ]
    },
    {
      "cell_type": "markdown",
      "metadata": {
        "id": "_tT7nvv2937F"
      },
      "source": [
        "![image](https://github.com/user-attachments/assets/5f55c814-2a86-45a0-b75c-84e2757b88d5)"
      ]
    },
    {
      "cell_type": "code",
      "execution_count": null,
      "metadata": {
        "id": "dukdCS0x937G"
      },
      "outputs": [],
      "source": [
        "predictor.predict_video(prompts)"
      ]
    },
    {
      "cell_type": "code",
      "execution_count": null,
      "metadata": {
        "id": "uncXnm30937G"
      },
      "outputs": [],
      "source": [
        "predictor.save_video_segments_blended(\"cars\", output_video=\"cars_blended.mp4\", fps=25)"
      ]
    },
    {
      "cell_type": "markdown",
      "metadata": {
        "id": "hSQyvFCR937G"
      },
      "source": [
        "![image](https://github.com/user-attachments/assets/ef5a0310-26d1-4d64-a880-73b1e5de42c9)"
      ]
    }
  ],
  "metadata": {
    "kernelspec": {
      "display_name": "sam",
      "language": "python",
      "name": "python3"
    },
    "language_info": {
      "codemirror_mode": {
        "name": "ipython",
        "version": 3
      },
      "file_extension": ".py",
      "mimetype": "text/x-python",
      "name": "python",
      "nbconvert_exporter": "python",
      "pygments_lexer": "ipython3",
      "version": "3.11.8"
    },
    "colab": {
      "provenance": []
    }
  },
  "nbformat": 4,
  "nbformat_minor": 0
}